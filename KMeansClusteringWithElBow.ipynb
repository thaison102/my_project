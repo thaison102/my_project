{
 "cells": [
  {
   "cell_type": "code",
   "execution_count": null,
   "metadata": {},
   "outputs": [],
   "source": [
    "##lib\n",
    "import pandas as pd\n",
    "import matplotlib.pyplot as plt\n",
    "from sklearn.preprocessing import StandardScaler\n",
    "from sklearn.cluster import KMeans \n"
   ]
  },
  {
   "cell_type": "code",
   "execution_count": null,
   "metadata": {},
   "outputs": [],
   "source": [
    "##read\n",
    "import os\n",
    "df=pd.read_csv('data.csv')\n"
   ]
  },
  {
   "cell_type": "code",
   "execution_count": null,
   "metadata": {},
   "outputs": [],
   "source": [
    "##describe\n",
    "df.describe\n",
    "df.plot(kind='scatter',x='Experience',y='Age')\n",
    "df.corr()\n"
   ]
  },
  {
   "cell_type": "code",
   "execution_count": null,
   "metadata": {},
   "outputs": [],
   "source": [
    "##Preprocessing\n",
    "df=df.drop('Nationality', axis =1)\n",
    "df=df.drop('Rank', axis =1)\n",
    "df=df.drop('Go', axis =1)\n",
    "df\n",
    "##Chuẩn hóa dữ liệu, đưa DL về dạng có thể chuẩn hóa\n",
    "##Sử dụng điểm chuẩn xz, để xem giá trị của nó lệch khỏi trung bình như thế nào? <0 là lệch về bên trái, >0 là bên phải\n",
    "sc=StandardScaler()\n",
    "df_stand=sc.fit_transform(df)\n",
    "df_stand\n"
   ]
  },
  {
   "cell_type": "code",
   "execution_count": null,
   "metadata": {},
   "outputs": [],
   "source": [
    "##Convert\n",
    "df_stand=pd.DataFrame(df_stand,columns=['Age','Experience'])\n",
    "df_stand.describe"
   ]
  },
  {
   "cell_type": "code",
   "execution_count": null,
   "metadata": {},
   "outputs": [],
   "source": [
    "#Plot\n",
    "df_stand.plot(kind='scatter',x='Age',y='Experience')\n",
    "plt.show()"
   ]
  },
  {
   "cell_type": "code",
   "execution_count": null,
   "metadata": {},
   "outputs": [],
   "source": [
    "##HowMany\n",
    "\n",
    "Sum_of_squared_distances=[]\n",
    "K=range(1,13)\n",
    "for k in K:\n",
    "    km=KMeans(n_clusters=k)\n",
    "    km=km.fit(df_stand)\n",
    "    Sum_of_squared_distances.append(km.inertia_)"
   ]
  },
  {
   "cell_type": "code",
   "execution_count": null,
   "metadata": {},
   "outputs": [],
   "source": [
    "##ElbowPlot\n",
    "plt.plot(K,Sum_of_squared_distances,'bx-')\n",
    "plt.xlabel('k')\n",
    "plt.ylabel('Sum_of_squared_distances')\n",
    "plt.title('Elbow Method for Optimal k')\n",
    "plt.show()  "
   ]
  },
  {
   "cell_type": "code",
   "execution_count": null,
   "metadata": {},
   "outputs": [],
   "source": [
    "# k=3\n",
    "\n",
    "km3=KMeans(n_clusters=3)\n",
    "km3=km3.fit(df)"
   ]
  },
  {
   "cell_type": "code",
   "execution_count": null,
   "metadata": {},
   "outputs": [],
   "source": [
    "labels=km3.labels_\n",
    "labels=pd.DataFrame(labels,columns=['cluster'])\n",
    "df_cluster=pd.concat([df,labels],axis=1)"
   ]
  },
  {
   "cell_type": "code",
   "execution_count": null,
   "metadata": {},
   "outputs": [],
   "source": [
    "##xếp Dl theo  cụm\n",
    "\n",
    "df_cluster.sort_values('cluster',ascending=True) "
   ]
  },
  {
   "cell_type": "code",
   "execution_count": null,
   "metadata": {},
   "outputs": [],
   "source": [
    "##Cluster\n",
    "print(km3.labels_)\n",
    "df_cluster.groupby('cluster').size()\n"
   ]
  },
  {
   "cell_type": "code",
   "execution_count": null,
   "metadata": {},
   "outputs": [],
   "source": [
    "df_cluster.groupby('cluster').describe\n",
    "df_cluster[df_cluster['cluster']==0] ##Xem cụm 0"
   ]
  },
  {
   "cell_type": "code",
   "execution_count": null,
   "metadata": {},
   "outputs": [],
   "source": [
    "##Centroids\n",
    "\n",
    "centroids=km3.cluster_centers_\n",
    "centroids=pd.DataFrame(centroids,columns=['Experience','Age'])\n",
    "centroids"
   ]
  },
  {
   "cell_type": "code",
   "execution_count": null,
   "metadata": {},
   "outputs": [],
   "source": [
    "import seaborn as sns\n",
    "s1=sns.scatterplot(data=df_cluster,x='Experience',y='Age',hue='cluster')\n"
   ]
  },
  {
   "cell_type": "code",
   "execution_count": null,
   "metadata": {},
   "outputs": [],
   "source": [
    "##Predict\n",
    "clu_predict=km3.predict([[19,35],[2,20],[10,29]])\n",
    "print(clu_predict)"
   ]
  }
 ],
 "metadata": {
  "language_info": {
   "name": "python"
  },
  "orig_nbformat": 4
 },
 "nbformat": 4,
 "nbformat_minor": 2
}
