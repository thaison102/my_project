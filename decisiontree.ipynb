{
 "cells": [
  {
   "cell_type": "code",
   "execution_count": null,
   "metadata": {},
   "outputs": [],
   "source": [
    "import pandas as pd\n",
    "import numpy as np\n",
    "\n",
    "##import\n",
    "df = pd.read_csv(\"market.csv\")\n",
    "df.head()"
   ]
  },
  {
   "cell_type": "code",
   "execution_count": null,
   "metadata": {},
   "outputs": [],
   "source": [
    "##Preprocessing\n",
    "df= df.drop(\"Tax 5%\", axis =1)\n",
    "df=df.drop('Invoice ID', axis =1)\n",
    "df= df.drop(\"Date\", axis =1)\n",
    "df= df.drop(\"Time\", axis =1)"
   ]
  },
  {
   "cell_type": "code",
   "execution_count": null,
   "metadata": {},
   "outputs": [],
   "source": [
    "##Mapping\n",
    "d = {'A': 0, 'B': 1, 'C': 2}\n",
    "df['Branch'] = df['Branch'].map(d)\n",
    "d = {'Yangon': 0, 'Mandalay': 1, 'Naypyitaw': 2}\n",
    "df['City'] = df['City'].map(d)\n",
    "\n",
    "\n",
    "d = {'Food and beverages': 0, 'Fashion accessories': 1,'Home and lifestyle': 2, 'Sports and travel':3, 'Health and beauty':4,'Electronic accessories':5}\n",
    "df['Product line'] = df['Product line'].map(d)\n",
    "\n",
    "d = {'Ewallet': 0, 'Credit card': 1, 'Cash': 2}\n",
    "df['Payment'] = df['Payment'].map(d)\n",
    "\n",
    "d = {'Member': 0, 'Normal': 1}\n",
    "df['Customer type'] = df['Customer type'].map(d)\n",
    "\n",
    "d = {'Female': 0, 'Male': 1}\n",
    "df['Gender'] = df['Gender'].map(d)\n",
    "\n"
   ]
  },
  {
   "cell_type": "code",
   "execution_count": null,
   "metadata": {},
   "outputs": [],
   "source": [
    "#Building\n",
    "\n",
    "features =['Customer type','Product line','Payment','Gender']\n",
    "X = df[features]\n",
    "Y = df['Branch']\n",
    "print (X)\n",
    "print (Y)\n",
    "from sklearn import tree\n",
    "from sklearn.tree import DecisionTreeClassifier\n",
    "import matplotlib.pyplot as plt\n",
    "dtree = DecisionTreeClassifier()\n",
    "dtree = dtree.fit(X, Y)\n",
    "tree.plot_tree(dtree, feature_names=features,filled=True)\n",
    "from sklearn import tree\n",
    "fig=plt.figure(figsize=(20,10))"
   ]
  },
  {
   "cell_type": "code",
   "execution_count": null,
   "metadata": {},
   "outputs": [],
   "source": [
    "##Predict\n",
    "print(dtree.predict([[2,0, 3, 2]]))"
   ]
  }
 ],
 "metadata": {
  "language_info": {
   "name": "python"
  },
  "orig_nbformat": 4
 },
 "nbformat": 4,
 "nbformat_minor": 2
}
