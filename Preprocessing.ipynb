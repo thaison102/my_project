{
 "cells": [
  {
   "cell_type": "code",
   "execution_count": null,
   "metadata": {},
   "outputs": [],
   "source": [
    "import pandas as pd\n",
    "import numpy as np\n",
    "import matplotlib.pyplot as plt\n",
    "import seaborn as sns\n",
    "import  os"
   ]
  },
  {
   "cell_type": "code",
   "execution_count": null,
   "metadata": {},
   "outputs": [],
   "source": [
    "data=pd.read_csv('data1.csv')"
   ]
  },
  {
   "cell_type": "code",
   "execution_count": null,
   "metadata": {},
   "outputs": [],
   "source": [
    "data.describe\n",
    "data.corr()\n"
   ]
  },
  {
   "cell_type": "code",
   "execution_count": null,
   "metadata": {},
   "outputs": [],
   "source": [
    "##Null?\n",
    "data.isnull().values.any()"
   ]
  },
  {
   "cell_type": "code",
   "execution_count": null,
   "metadata": {},
   "outputs": [],
   "source": [
    "##HowMany?\n",
    "data.isnull().sum().sum()\n",
    "data.isnull().sum()\n",
    "data[pd.isnull(data).any(axis=1)]"
   ]
  },
  {
   "cell_type": "code",
   "execution_count": null,
   "metadata": {},
   "outputs": [],
   "source": [
    "#Thay bằng Mean\n",
    "data.Age.fillna(data.Age.mean(),inplace=True)\n",
    "data.Experience.fillna(data.Experience.mean(),inplace=True)\n",
    "data.Rank.fillna(data.Rank.mean(),inplace=True)\n"
   ]
  },
  {
   "cell_type": "code",
   "execution_count": null,
   "metadata": {},
   "outputs": [],
   "source": [
    "##Kiểm tra hết null chưa?\n",
    "data.isnull().values.any()"
   ]
  },
  {
   "cell_type": "code",
   "execution_count": null,
   "metadata": {},
   "outputs": [],
   "source": [
    "df=data[['Age','Experience']]"
   ]
  },
  {
   "cell_type": "code",
   "execution_count": null,
   "metadata": {},
   "outputs": [],
   "source": [
    "##Mapping\n",
    "data[['Experience','Age']].plot(kind='box')"
   ]
  },
  {
   "cell_type": "code",
   "execution_count": null,
   "metadata": {},
   "outputs": [],
   "source": [
    "### 1. Chuẩn hóa dữ liệu kiểu MAX-MIN\n",
    "from sklearn.preprocessing import MinMaxScaler\n",
    "mms=MinMaxScaler()\n",
    "mms.fit(df)\n",
    "data_mms=mms.transform(df)\n",
    "data_mms"
   ]
  },
  {
   "cell_type": "code",
   "execution_count": null,
   "metadata": {},
   "outputs": [],
   "source": [
    "data_mms=pd.DataFrame(data_mms,columns=['Experience','Age'])"
   ]
  },
  {
   "cell_type": "code",
   "execution_count": null,
   "metadata": {},
   "outputs": [],
   "source": [
    "##data after max_min Normalization\n",
    "data_mms.plot(kind='box')\n",
    "plt.title('sau chuan hoa') "
   ]
  },
  {
   "cell_type": "code",
   "execution_count": null,
   "metadata": {},
   "outputs": [],
   "source": [
    "### 2. Chuẩn hóa theo điểm chuẩn z= (x-mean(x))/độ lệch chuẩn\n",
    "\n",
    "from sklearn.preprocessing import StandardScaler\n",
    "sc=StandardScaler()\n",
    "data_stand=sc.fit_transform(df)"
   ]
  },
  {
   "cell_type": "code",
   "execution_count": null,
   "metadata": {},
   "outputs": [],
   "source": [
    "data_stand=pd.DataFrame(data_stand,columns=['Experience','Age'])\n",
    "data_stand.describe"
   ]
  },
  {
   "cell_type": "code",
   "execution_count": null,
   "metadata": {},
   "outputs": [],
   "source": [
    "data_stand.plot(kind='box')\n",
    "plt.title('sau chuan hoa')"
   ]
  },
  {
   "cell_type": "code",
   "execution_count": null,
   "metadata": {},
   "outputs": [],
   "source": [
    "Y=data[['Age','Rank','Go','Nationality']]\n",
    "X=data['Nationality']"
   ]
  },
  {
   "cell_type": "code",
   "execution_count": null,
   "metadata": {},
   "outputs": [],
   "source": [
    "##Xử lý biến giả: Những biến không thể định lượng có thể chuyển về 0 hoặc 1\n",
    "\n",
    "d = {'Yes': 0, 'No': 1 }\n",
    "data['Go'] = data['Go'].map(d)"
   ]
  },
  {
   "cell_type": "code",
   "execution_count": null,
   "metadata": {},
   "outputs": [],
   "source": [
    "###Rời rạc hóa DL, đưa DL liên cục trở nên rời rạc\n",
    "\n",
    "cut_labels=['thấp','cao','vừa']\n",
    "cut_bins=(0,10,20,30)\n",
    "data['Ex_tnao']=pd.cut(data['Experience'],bins=cut_bins,labels=cut_labels)"
   ]
  }
 ],
 "metadata": {
  "language_info": {
   "name": "python"
  },
  "orig_nbformat": 4
 },
 "nbformat": 4,
 "nbformat_minor": 2
}
